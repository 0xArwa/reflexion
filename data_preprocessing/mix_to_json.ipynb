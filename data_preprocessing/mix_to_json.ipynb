{
 "cells":[
  {
   "cell_type":"code",
   "source":[
    "import pandas as pd"
   ],
   "execution_count":16,
   "outputs":[
    
   ],
   "metadata":{
    "datalore":{
     "node_id":"DnH0wqbBFKwXn4okEAi3u9",
     "type":"CODE",
     "hide_input_from_viewers":true,
     "hide_output_from_viewers":true
    }
   }
  },
  {
   "cell_type":"code",
   "source":[
    "df = pd.read_csv('Reasoning_dataset.csv', index_col='index')\n",
    "df.head()"
   ],
   "execution_count":17,
   "outputs":[
    {
     "data":{
      "text\/html":[
       "<div>\n",
       "<style scoped>\n",
       "    .dataframe tbody tr th:only-of-type {\n",
       "        vertical-align: middle;\n",
       "    }\n",
       "\n",
       "    .dataframe tbody tr th {\n",
       "        vertical-align: top;\n",
       "    }\n",
       "\n",
       "    .dataframe thead th {\n",
       "        text-align: right;\n",
       "    }\n",
       "<\/style>\n",
       "<table border=\"1\" class=\"dataframe\">\n",
       "  <thead>\n",
       "    <tr style=\"text-align: right;\">\n",
       "      <th><\/th>\n",
       "      <th>instruction-arabic<\/th>\n",
       "      <th>input-arabic<\/th>\n",
       "      <th>output-arabic<\/th>\n",
       "    <\/tr>\n",
       "    <tr>\n",
       "      <th>index<\/th>\n",
       "      <th><\/th>\n",
       "      <th><\/th>\n",
       "      <th><\/th>\n",
       "    <\/tr>\n",
       "  <\/thead>\n",
       "  <tbody>\n",
       "    <tr>\n",
       "      <th>1<\/th>\n",
       "      <td>تقييم هذه الجملة للأخطاء الإملائية والنحوية<\/td>\n",
       "      <td>أنهى وجبته وغادر المطعم<\/td>\n",
       "      <td>هناك نوعان من الأخطاء الإملائية في الجملة، يجب...<\/td>\n",
       "    <\/tr>\n",
       "    <tr>\n",
       "      <th>2<\/th>\n",
       "      <td>كتابة ثلاثة أفعال تعني \"الاعتذار\"<\/td>\n",
       "      <td>NaN<\/td>\n",
       "      <td>التعبير عن الندم، الاسف، التعويض<\/td>\n",
       "    <\/tr>\n",
       "    <tr>\n",
       "      <th>3<\/th>\n",
       "      <td>إنشاء قائمة من الكلمات العشوائية.<\/td>\n",
       "      <td>NaN<\/td>\n",
       "      <td>فيما يلي قائمة بعشر كلمات عشوائية:\\n1. مراوغة\\...<\/td>\n",
       "    <\/tr>\n",
       "    <tr>\n",
       "      <th>4<\/th>\n",
       "      <td>أعد كتابة الجملة التالية للضمير المبني للمجهول.<\/td>\n",
       "      <td>كتب الكابتن التقرير الإخباري.<\/td>\n",
       "      <td>كُتب التقرير الإخباري.<\/td>\n",
       "    <\/tr>\n",
       "    <tr>\n",
       "      <th>5<\/th>\n",
       "      <td>رتب الكلمات في الجملة المحددة لتكوين جملة صحيح...<\/td>\n",
       "      <td>بسرعة، قفز، البني، الثعلب<\/td>\n",
       "      <td>قفز الثعلب البني بسرعة.<\/td>\n",
       "    <\/tr>\n",
       "  <\/tbody>\n",
       "<\/table>\n",
       "<\/div>"
      ]
     },
     "metadata":{
      
     },
     "output_type":"display_data"
    }
   ],
   "metadata":{
    "datalore":{
     "node_id":"5gJh9FtmWbnzUF7CpgbE3M",
     "type":"CODE",
     "hide_input_from_viewers":true,
     "hide_output_from_viewers":true
    }
   }
  },
  {
   "cell_type":"code",
   "source":[
    "df['input-arabic'].isnull().sum()"
   ],
   "execution_count":9,
   "outputs":[
    {
     "data":{
      "text\/plain":[
       "0"
      ]
     },
     "metadata":{
      
     },
     "output_type":"display_data"
    }
   ],
   "metadata":{
    "datalore":{
     "node_id":"zcvBx9cJyArYO8b9NWYaXV",
     "type":"CODE",
     "hide_input_from_viewers":true,
     "hide_output_from_viewers":true
    }
   }
  },
  {
   "cell_type":"code",
   "source":[
    "import re\n",
    "def _remove_diacritics(text):\n",
    "    text = re.sub(r\"[ًًٌٍَُِّْ]\", \"\", text)\n",
    "    return text"
   ],
   "execution_count":18,
   "outputs":[
    
   ],
   "metadata":{
    "datalore":{
     "node_id":"lx5Rb99Q9Svzy7YCGEj3Az",
     "type":"CODE",
     "hide_input_from_viewers":true,
     "hide_output_from_viewers":true
    }
   }
  },
  {
   "cell_type":"code",
   "source":[
    "listq = ['instruction-arabic', 'input-arabic','output-arabic']\n",
    "\n",
    "for i in listq:\n",
    "    df[i] = df[i].apply(lambda x : _remove_diacritics(x))"
   ],
   "execution_count":24,
   "outputs":[
    
   ],
   "metadata":{
    "datalore":{
     "node_id":"CHrZEKjIwJ143s4kaqXzxE",
     "type":"CODE",
     "hide_input_from_viewers":true,
     "hide_output_from_viewers":true
    }
   }
  },
  {
   "cell_type":"code",
   "source":[
    "df['output-arabic'][4]"
   ],
   "execution_count":25,
   "outputs":[
    {
     "data":{
      "text\/plain":[
       "'كتب التقرير الإخباري.'"
      ]
     },
     "metadata":{
      
     },
     "output_type":"display_data"
    }
   ],
   "metadata":{
    "datalore":{
     "node_id":"UGsKTge1CiQJJivpJHXxq0",
     "type":"CODE",
     "hide_input_from_viewers":true,
     "hide_output_from_viewers":true
    }
   }
  },
  {
   "cell_type":"code",
   "source":[
    "import numpy as np\n",
    "df['input-arabic'] = df['input-arabic'].replace(np.nan, \"\")\n",
    "df.head()"
   ],
   "execution_count":26,
   "outputs":[
    {
     "data":{
      "text\/html":[
       "<div>\n",
       "<style scoped>\n",
       "    .dataframe tbody tr th:only-of-type {\n",
       "        vertical-align: middle;\n",
       "    }\n",
       "\n",
       "    .dataframe tbody tr th {\n",
       "        vertical-align: top;\n",
       "    }\n",
       "\n",
       "    .dataframe thead th {\n",
       "        text-align: right;\n",
       "    }\n",
       "<\/style>\n",
       "<table border=\"1\" class=\"dataframe\">\n",
       "  <thead>\n",
       "    <tr style=\"text-align: right;\">\n",
       "      <th><\/th>\n",
       "      <th>instruction-arabic<\/th>\n",
       "      <th>input-arabic<\/th>\n",
       "      <th>output-arabic<\/th>\n",
       "    <\/tr>\n",
       "    <tr>\n",
       "      <th>index<\/th>\n",
       "      <th><\/th>\n",
       "      <th><\/th>\n",
       "      <th><\/th>\n",
       "    <\/tr>\n",
       "  <\/thead>\n",
       "  <tbody>\n",
       "    <tr>\n",
       "      <th>1<\/th>\n",
       "      <td>تقييم هذه الجملة للأخطاء الإملائية والنحوية<\/td>\n",
       "      <td>أنهى وجبته وغادر المطعم<\/td>\n",
       "      <td>هناك نوعان من الأخطاء الإملائية في الجملة، يجب...<\/td>\n",
       "    <\/tr>\n",
       "    <tr>\n",
       "      <th>2<\/th>\n",
       "      <td>كتابة ثلاثة أفعال تعني \"الاعتذار\"<\/td>\n",
       "      <td><\/td>\n",
       "      <td>التعبير عن الندم، الاسف، التعويض<\/td>\n",
       "    <\/tr>\n",
       "    <tr>\n",
       "      <th>3<\/th>\n",
       "      <td>إنشاء قائمة من الكلمات العشوائية.<\/td>\n",
       "      <td><\/td>\n",
       "      <td>فيما يلي قائمة بعشر كلمات عشوائية:\\n1. مراوغة\\...<\/td>\n",
       "    <\/tr>\n",
       "    <tr>\n",
       "      <th>4<\/th>\n",
       "      <td>أعد كتابة الجملة التالية للضمير المبني للمجهول.<\/td>\n",
       "      <td>كتب الكابتن التقرير الإخباري.<\/td>\n",
       "      <td>كتب التقرير الإخباري.<\/td>\n",
       "    <\/tr>\n",
       "    <tr>\n",
       "      <th>5<\/th>\n",
       "      <td>رتب الكلمات في الجملة المحددة لتكوين جملة صحيح...<\/td>\n",
       "      <td>بسرعة، قفز، البني، الثعلب<\/td>\n",
       "      <td>قفز الثعلب البني بسرعة.<\/td>\n",
       "    <\/tr>\n",
       "  <\/tbody>\n",
       "<\/table>\n",
       "<\/div>"
      ]
     },
     "metadata":{
      
     },
     "output_type":"display_data"
    }
   ],
   "metadata":{
    "datalore":{
     "node_id":"3SiXcFeFRQxBC0FzhA52pd",
     "type":"CODE",
     "hide_input_from_viewers":true,
     "hide_output_from_viewers":true
    }
   }
  },
  {
   "cell_type":"code",
   "source":[
    "def create_question(row):\n",
    "  instruction = row['instruction-arabic']\n",
    "  input_text = row['input-arabic']\n",
    "  return instruction + (\" : \" + input_text if input_text else \"\")\n",
    "\n",
    "df['question'] = df.apply(create_question, axis=1)\n",
    "df.head()"
   ],
   "execution_count":29,
   "outputs":[
    {
     "data":{
      "text\/html":[
       "<div>\n",
       "<style scoped>\n",
       "    .dataframe tbody tr th:only-of-type {\n",
       "        vertical-align: middle;\n",
       "    }\n",
       "\n",
       "    .dataframe tbody tr th {\n",
       "        vertical-align: top;\n",
       "    }\n",
       "\n",
       "    .dataframe thead th {\n",
       "        text-align: right;\n",
       "    }\n",
       "<\/style>\n",
       "<table border=\"1\" class=\"dataframe\">\n",
       "  <thead>\n",
       "    <tr style=\"text-align: right;\">\n",
       "      <th><\/th>\n",
       "      <th>instruction-arabic<\/th>\n",
       "      <th>input-arabic<\/th>\n",
       "      <th>output-arabic<\/th>\n",
       "      <th>question<\/th>\n",
       "      <th>answer<\/th>\n",
       "    <\/tr>\n",
       "    <tr>\n",
       "      <th>index<\/th>\n",
       "      <th><\/th>\n",
       "      <th><\/th>\n",
       "      <th><\/th>\n",
       "      <th><\/th>\n",
       "      <th><\/th>\n",
       "    <\/tr>\n",
       "  <\/thead>\n",
       "  <tbody>\n",
       "    <tr>\n",
       "      <th>1<\/th>\n",
       "      <td>تقييم هذه الجملة للأخطاء الإملائية والنحوية<\/td>\n",
       "      <td>أنهى وجبته وغادر المطعم<\/td>\n",
       "      <td>هناك نوعان من الأخطاء الإملائية في الجملة، يجب...<\/td>\n",
       "      <td>تقييم هذه الجملة للأخطاء الإملائية والنحوية : ...<\/td>\n",
       "      <td>هناك نوعان من الأخطاء الإملائية في الجملة، يجب...<\/td>\n",
       "    <\/tr>\n",
       "    <tr>\n",
       "      <th>2<\/th>\n",
       "      <td>كتابة ثلاثة أفعال تعني \"الاعتذار\"<\/td>\n",
       "      <td><\/td>\n",
       "      <td>التعبير عن الندم، الاسف، التعويض<\/td>\n",
       "      <td>كتابة ثلاثة أفعال تعني \"الاعتذار\"<\/td>\n",
       "      <td>التعبير عن الندم، الاسف، التعويض<\/td>\n",
       "    <\/tr>\n",
       "    <tr>\n",
       "      <th>3<\/th>\n",
       "      <td>إنشاء قائمة من الكلمات العشوائية.<\/td>\n",
       "      <td><\/td>\n",
       "      <td>فيما يلي قائمة بعشر كلمات عشوائية:\\n1. مراوغة\\...<\/td>\n",
       "      <td>إنشاء قائمة من الكلمات العشوائية.<\/td>\n",
       "      <td>فيما يلي قائمة بعشر كلمات عشوائية:\\n1. مراوغة\\...<\/td>\n",
       "    <\/tr>\n",
       "    <tr>\n",
       "      <th>4<\/th>\n",
       "      <td>أعد كتابة الجملة التالية للضمير المبني للمجهول.<\/td>\n",
       "      <td>كتب الكابتن التقرير الإخباري.<\/td>\n",
       "      <td>كتب التقرير الإخباري.<\/td>\n",
       "      <td>أعد كتابة الجملة التالية للضمير المبني للمجهول...<\/td>\n",
       "      <td>كتب التقرير الإخباري.<\/td>\n",
       "    <\/tr>\n",
       "    <tr>\n",
       "      <th>5<\/th>\n",
       "      <td>رتب الكلمات في الجملة المحددة لتكوين جملة صحيح...<\/td>\n",
       "      <td>بسرعة، قفز، البني، الثعلب<\/td>\n",
       "      <td>قفز الثعلب البني بسرعة.<\/td>\n",
       "      <td>رتب الكلمات في الجملة المحددة لتكوين جملة صحيح...<\/td>\n",
       "      <td>قفز الثعلب البني بسرعة.<\/td>\n",
       "    <\/tr>\n",
       "  <\/tbody>\n",
       "<\/table>\n",
       "<\/div>"
      ]
     },
     "metadata":{
      
     },
     "output_type":"display_data"
    }
   ],
   "metadata":{
    "datalore":{
     "node_id":"4h2ReXj7cz4H5GUq4EYitF",
     "type":"CODE",
     "hide_input_from_viewers":true,
     "hide_output_from_viewers":true
    }
   }
  },
  {
   "cell_type":"code",
   "source":[
    "df['answer'] = df['output-arabic']\n",
    "dataset = df[['question', 'answer']].copy()\n",
    "dataset.head()"
   ],
   "execution_count":30,
   "outputs":[
    {
     "data":{
      "text\/html":[
       "<div>\n",
       "<style scoped>\n",
       "    .dataframe tbody tr th:only-of-type {\n",
       "        vertical-align: middle;\n",
       "    }\n",
       "\n",
       "    .dataframe tbody tr th {\n",
       "        vertical-align: top;\n",
       "    }\n",
       "\n",
       "    .dataframe thead th {\n",
       "        text-align: right;\n",
       "    }\n",
       "<\/style>\n",
       "<table border=\"1\" class=\"dataframe\">\n",
       "  <thead>\n",
       "    <tr style=\"text-align: right;\">\n",
       "      <th><\/th>\n",
       "      <th>question<\/th>\n",
       "      <th>answer<\/th>\n",
       "    <\/tr>\n",
       "    <tr>\n",
       "      <th>index<\/th>\n",
       "      <th><\/th>\n",
       "      <th><\/th>\n",
       "    <\/tr>\n",
       "  <\/thead>\n",
       "  <tbody>\n",
       "    <tr>\n",
       "      <th>1<\/th>\n",
       "      <td>تقييم هذه الجملة للأخطاء الإملائية والنحوية : ...<\/td>\n",
       "      <td>هناك نوعان من الأخطاء الإملائية في الجملة، يجب...<\/td>\n",
       "    <\/tr>\n",
       "    <tr>\n",
       "      <th>2<\/th>\n",
       "      <td>كتابة ثلاثة أفعال تعني \"الاعتذار\"<\/td>\n",
       "      <td>التعبير عن الندم، الاسف، التعويض<\/td>\n",
       "    <\/tr>\n",
       "    <tr>\n",
       "      <th>3<\/th>\n",
       "      <td>إنشاء قائمة من الكلمات العشوائية.<\/td>\n",
       "      <td>فيما يلي قائمة بعشر كلمات عشوائية:\\n1. مراوغة\\...<\/td>\n",
       "    <\/tr>\n",
       "    <tr>\n",
       "      <th>4<\/th>\n",
       "      <td>أعد كتابة الجملة التالية للضمير المبني للمجهول...<\/td>\n",
       "      <td>كتب التقرير الإخباري.<\/td>\n",
       "    <\/tr>\n",
       "    <tr>\n",
       "      <th>5<\/th>\n",
       "      <td>رتب الكلمات في الجملة المحددة لتكوين جملة صحيح...<\/td>\n",
       "      <td>قفز الثعلب البني بسرعة.<\/td>\n",
       "    <\/tr>\n",
       "  <\/tbody>\n",
       "<\/table>\n",
       "<\/div>"
      ]
     },
     "metadata":{
      
     },
     "output_type":"display_data"
    }
   ],
   "metadata":{
    "datalore":{
     "node_id":"mAcfanVSI7bR4M9y0aUZyH",
     "type":"CODE",
     "hide_input_from_viewers":true,
     "hide_output_from_viewers":true
    }
   }
  },
  {
   "cell_type":"code",
   "source":[
    "dataset = dataset.sample(frac=1, random_state= 42).reset_index(drop=True)\n",
    "dataset.head()"
   ],
   "execution_count":34,
   "outputs":[
    {
     "data":{
      "text\/html":[
       "<div>\n",
       "<style scoped>\n",
       "    .dataframe tbody tr th:only-of-type {\n",
       "        vertical-align: middle;\n",
       "    }\n",
       "\n",
       "    .dataframe tbody tr th {\n",
       "        vertical-align: top;\n",
       "    }\n",
       "\n",
       "    .dataframe thead th {\n",
       "        text-align: right;\n",
       "    }\n",
       "<\/style>\n",
       "<table border=\"1\" class=\"dataframe\">\n",
       "  <thead>\n",
       "    <tr style=\"text-align: right;\">\n",
       "      <th><\/th>\n",
       "      <th>question<\/th>\n",
       "      <th>answer<\/th>\n",
       "    <\/tr>\n",
       "  <\/thead>\n",
       "  <tbody>\n",
       "    <tr>\n",
       "      <th>0<\/th>\n",
       "      <td>صنف الكلمات التالية إلى فواكه أو خضروات: التوت...<\/td>\n",
       "      <td>الفواكه: التوت، الطماطم، الجريب فروت. الخضار: ...<\/td>\n",
       "    <\/tr>\n",
       "    <tr>\n",
       "      <th>1<\/th>\n",
       "      <td>بالنظر إلى عينة من النص، قم بتحريرها لجعلها أك...<\/td>\n",
       "      <td>تعتبر الشاشات الكبيرة مثالية لمشاهدة الأفلام و...<\/td>\n",
       "    <\/tr>\n",
       "    <tr>\n",
       "      <th>2<\/th>\n",
       "      <td>أعد كتابة الجملة بنفس المعنى ولكن بوضوح. : الو...<\/td>\n",
       "      <td>الوضع الاقتصادي الحالي غير مناسب.<\/td>\n",
       "    <\/tr>\n",
       "    <tr>\n",
       "      <th>3<\/th>\n",
       "      <td>قم بتعديل النص لجعله أكثر إيجازا باستخدام ما ل...<\/td>\n",
       "      <td>يقدم قسم المخابز مجموعة متنوعة من الحلويات مثل...<\/td>\n",
       "    <\/tr>\n",
       "    <tr>\n",
       "      <th>4<\/th>\n",
       "      <td>أعد كتابة العبارة التالية لتصبح أمنية. : يجب ع...<\/td>\n",
       "      <td>أتمنى ان تبذل الجامعة جهدا لرفع مستوى مخرجاتها.<\/td>\n",
       "    <\/tr>\n",
       "  <\/tbody>\n",
       "<\/table>\n",
       "<\/div>"
      ]
     },
     "metadata":{
      
     },
     "output_type":"display_data"
    }
   ],
   "metadata":{
    "datalore":{
     "node_id":"K2YsNU1w6gA5eq7oguOMjO",
     "type":"CODE",
     "hide_input_from_viewers":true,
     "hide_output_from_viewers":true
    }
   }
  },
  {
   "cell_type":"code",
   "source":[
    "dataset.info()"
   ],
   "execution_count":35,
   "outputs":[
    {
     "name":"stdout",
     "text":[
      "<class 'pandas.core.frame.DataFrame'>\n",
      "RangeIndex: 3013 entries, 0 to 3012\n",
      "Data columns (total 2 columns):\n",
      " #   Column    Non-Null Count  Dtype \n",
      "---  ------    --------------  ----- \n",
      " 0   question  3013 non-null   object\n",
      " 1   answer    3013 non-null   object\n",
      "dtypes: object(2)\n",
      "memory usage: 47.2+ KB\n"
     ],
     "output_type":"stream"
    }
   ],
   "metadata":{
    "datalore":{
     "node_id":"5D0XQqFtmJPfULw3GWybYJ",
     "type":"CODE",
     "hide_input_from_viewers":true,
     "hide_output_from_viewers":true
    }
   }
  },
  {
   "cell_type":"code",
   "source":[
    "from sklearn.model_selection import train_test_split\n",
    "train_df, eval_df = train_test_split(dataset, test_size=0.1, random_state=42)"
   ],
   "execution_count":36,
   "outputs":[
    
   ],
   "metadata":{
    "datalore":{
     "node_id":"IZTZofu9G0fh5rR8qHag0o",
     "type":"CODE",
     "hide_input_from_viewers":true,
     "hide_output_from_viewers":true
    }
   }
  },
  {
   "cell_type":"code",
   "source":[
    "len(train_df), len(eval_df)"
   ],
   "execution_count":37,
   "outputs":[
    {
     "data":{
      "text\/plain":[
       "(2711, 302)"
      ]
     },
     "metadata":{
      
     },
     "output_type":"display_data"
    }
   ],
   "metadata":{
    "datalore":{
     "node_id":"AI3bGXKz6bZFB2ujF0tw0E",
     "type":"CODE",
     "hide_input_from_viewers":true,
     "hide_output_from_viewers":true
    }
   }
  },
  {
   "cell_type":"code",
   "source":[
    "train_df.to_json('train-QA-Reasoning-Ara.json')\n",
    "eval_df.to_json('val-QA-Reasoning-Ara.json')"
   ],
   "execution_count":38,
   "outputs":[
    
   ],
   "metadata":{
    "datalore":{
     "node_id":"3gwaoESW6LzPsKDQrI9kIP",
     "type":"CODE",
     "hide_input_from_viewers":true,
     "hide_output_from_viewers":true
    }
   }
  },
  {
   "cell_type":"code",
   "source":[
    "train_df.head()"
   ],
   "execution_count":39,
   "outputs":[
    {
     "data":{
      "text\/html":[
       "<div>\n",
       "<style scoped>\n",
       "    .dataframe tbody tr th:only-of-type {\n",
       "        vertical-align: middle;\n",
       "    }\n",
       "\n",
       "    .dataframe tbody tr th {\n",
       "        vertical-align: top;\n",
       "    }\n",
       "\n",
       "    .dataframe thead th {\n",
       "        text-align: right;\n",
       "    }\n",
       "<\/style>\n",
       "<table border=\"1\" class=\"dataframe\">\n",
       "  <thead>\n",
       "    <tr style=\"text-align: right;\">\n",
       "      <th><\/th>\n",
       "      <th>question<\/th>\n",
       "      <th>answer<\/th>\n",
       "    <\/tr>\n",
       "  <\/thead>\n",
       "  <tbody>\n",
       "    <tr>\n",
       "      <th>2902<\/th>\n",
       "      <td>قم بتصنيف هذا النص المحدد إلى \"إيجابي\" أو \"سلب...<\/td>\n",
       "      <td>سلبي<\/td>\n",
       "    <\/tr>\n",
       "    <tr>\n",
       "      <th>173<\/th>\n",
       "      <td>في هذه المهمة، عليك أن تكتب الرد المناسب على ع...<\/td>\n",
       "      <td>\"فكرة رائعة! أخذ فترات راحة أمر مهم لتحديث عقل...<\/td>\n",
       "    <\/tr>\n",
       "    <tr>\n",
       "      <th>1867<\/th>\n",
       "      <td>بالنظر إلى قائمة العناصر، قم بإزالة التكرار. :...<\/td>\n",
       "      <td>القائمة النهائية بدون التكرار هي [3، 7، 8، 6، 4].<\/td>\n",
       "    <\/tr>\n",
       "    <tr>\n",
       "      <th>296<\/th>\n",
       "      <td>اقترح حلا للمشكلة التالية:قراءة الرسائل النصيه...<\/td>\n",
       "      <td>أحد الحلول لمشكلة إرسال الرسائل النصية والقياد...<\/td>\n",
       "    <\/tr>\n",
       "    <tr>\n",
       "      <th>2855<\/th>\n",
       "      <td>اكتب سؤالا باستخدام الكلمات التالية: البشر، ال...<\/td>\n",
       "      <td>هل هناك كواكب أخرى غير الأرض يمكنها أن تحافظ ع...<\/td>\n",
       "    <\/tr>\n",
       "  <\/tbody>\n",
       "<\/table>\n",
       "<\/div>"
      ]
     },
     "metadata":{
      
     },
     "output_type":"display_data"
    }
   ],
   "metadata":{
    "datalore":{
     "node_id":"shhuXb1anVKXkjgpZhwK3u",
     "type":"CODE",
     "hide_input_from_viewers":true,
     "hide_output_from_viewers":true
    }
   }
  }
 ],
 "metadata":{
  "kernelspec":{
   "display_name":"Python",
   "language":"python",
   "name":"python"
  },
  "datalore":{
   "computation_mode":"JUPYTER",
   "package_manager":"pip",
   "base_environment":"default",
   "packages":[
    
   ],
   "report_row_ids":[
    
   ],
   "version":3
  }
 },
 "nbformat":4,
 "nbformat_minor":4
}