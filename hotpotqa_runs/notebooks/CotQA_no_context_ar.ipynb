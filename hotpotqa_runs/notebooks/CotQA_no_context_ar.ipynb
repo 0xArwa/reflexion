{
 "cells": [
  {
   "cell_type": "markdown",
   "metadata": {},
   "source": [
    "## Chain-of-Thought with no supporting context experiments"
   ]
  },
  {
   "cell_type": "code",
   "execution_count": 1,
   "metadata": {},
   "outputs": [],
   "source": [
    "import sys, os\n",
    "sys.path.append('..')\n",
    "root = '../root/'"
   ]
  },
  {
   "cell_type": "code",
   "execution_count": 2,
   "metadata": {},
   "outputs": [],
   "source": [
    "from util import summarize_trial, log_trial, save_agents\n",
    "import joblib\n",
    "from agents_ar import CoTAgent, ReflexionStrategy"
   ]
  },
  {
   "cell_type": "code",
   "execution_count": 4,
   "metadata": {},
   "outputs": [],
   "source": [
    "from datasets import load_dataset\n",
    "\n",
    "train_dataset = load_dataset('json', data_files='D:/files_new/10-samples.json', split='train')"
   ]
  },
  {
   "cell_type": "code",
   "execution_count": 5,
   "metadata": {},
   "outputs": [],
   "source": [
    "row = train_dataset[4]"
   ]
  },
  {
   "cell_type": "code",
   "execution_count": 6,
   "metadata": {},
   "outputs": [],
   "source": [
    "row['question'] = 'تحتوي الحديقة على عشرة زهور أقحوان واثنين من التوليب وثلاث من الخزامى. كم عدد الزهور الحمراء الموجودة في الحديقة؟'\n",
    "row['answer'] = 'بحسب المعلومات المقدمة، لا توجد زهور حمراء مذكورة في الحديقة.'"
   ]
  },
  {
   "cell_type": "code",
   "execution_count": 20,
   "metadata": {},
   "outputs": [],
   "source": [
    "row['question'] = f\"\"\"فرضية 1: جميع الثدييات لها فراء أو شعر. (الثدييات تُشير إلى الفراء / الشعر)\n",
    "\n",
    "فرضية 2: الحيتان ثدييات. (الثدييات صحيحة للحوت)\n",
    "\n",
    "السؤال: هل للحيتان فراء أو شعر؟\"\"\"\n",
    "\n",
    "row['answer'] = 'لا تملك الحيتان فراءً أو شعرًا. لديها طبقة سميكة من الشحم بدلاً من ذلك. وذلك لأن الحيتان قد تكيفت مع البيئة المائية، ولن يكون الفراء أو الشعر فعالاً مثل الشحم للعزل.'"
   ]
  },
  {
   "cell_type": "code",
   "execution_count": 7,
   "metadata": {},
   "outputs": [
    {
     "data": {
      "text/plain": [
       "{'answer': 'بحسب المعلومات المقدمة، لا توجد زهور حمراء مذكورة في الحديقة.',\n",
       " 'question': 'تحتوي الحديقة على عشرة زهور أقحوان واثنين من التوليب وثلاث من الخزامى. كم عدد الزهور الحمراء الموجودة في الحديقة؟'}"
      ]
     },
     "execution_count": 7,
     "metadata": {},
     "output_type": "execute_result"
    }
   ],
   "source": [
    "row"
   ]
  },
  {
   "cell_type": "markdown",
   "metadata": {},
   "source": [
    "Refliction Strategy"
   ]
  },
  {
   "cell_type": "code",
   "execution_count": 8,
   "metadata": {},
   "outputs": [
    {
     "name": "stdout",
     "output_type": "stream",
     "text": [
      "\n",
      "    NONE: No reflection\n",
      "    LAST_ATTEMPT: Use last reasoning trace in context \n",
      "    REFLEXION: Apply reflexion to the next reasoning trace \n",
      "    LAST_ATTEMPT_AND_REFLEXION: Use last reasoning trace in context and apply reflexion to the next reasoning trace \n",
      "    \n"
     ]
    }
   ],
   "source": [
    "print(ReflexionStrategy.__doc__)"
   ]
  },
  {
   "cell_type": "code",
   "execution_count": 9,
   "metadata": {},
   "outputs": [],
   "source": [
    "strategy: ReflexionStrategy = ReflexionStrategy.REFLEXION"
   ]
  },
  {
   "cell_type": "code",
   "execution_count": 10,
   "metadata": {},
   "outputs": [],
   "source": [
    "from prompts_ar import cot_simple_reflect_agent_prompt, cot_simple_reflect_prompt, cot_simple_agent_prompt\n",
    "from fewshots_ar import COTQA_SIMPLE6, COT_SIMPLE_REFLECTION"
   ]
  },
  {
   "cell_type": "code",
   "execution_count": 22,
   "metadata": {},
   "outputs": [],
   "source": [
    "agent = CoTAgent(question=row['question'],\n",
    "                   context='',\n",
    "                   key=row['answer'],\n",
    "                   agent_prompt=cot_simple_agent_prompt if strategy == ReflexionStrategy.NONE else cot_simple_reflect_agent_prompt,\n",
    "                   cot_examples=COTQA_SIMPLE6,\n",
    "                   reflect_prompt=cot_simple_reflect_prompt,\n",
    "                   reflect_examples=COT_SIMPLE_REFLECTION)"
   ]
  },
  {
   "cell_type": "code",
   "execution_count": 12,
   "metadata": {},
   "outputs": [
    {
     "name": "stdout",
     "output_type": "stream",
     "text": [
      "تحتوي الحديقة على عشرة زهور أقحوان واثنين من التوليب وثلاث من الخزامى. كم عدد الزهور الحمراء الموجودة في الحديقة؟\n"
     ]
    }
   ],
   "source": [
    "print(row['question'])"
   ]
  },
  {
   "cell_type": "code",
   "execution_count": 25,
   "metadata": {},
   "outputs": [
    {
     "name": "stdout",
     "output_type": "stream",
     "text": [
      "Running Reflexion strategy...\n",
      "سبق وأن جربت الإجابة على هذا السؤال، لكن دون نجاح. تقدم لك التقييمات التالية خطة لتجنب تكرار نفس الخطأ. استفد منها لتحسين استراتيجيتك وتقديم إجابة صحيحة على السؤال المطروح.  \n",
      "Reflections:\n",
      "- لقد فشلت في الإجابة على السؤال بشكل صحيح لأنك اخترت الإجابة \"نعم\"، في حين أن الإجابة الصحيحة هي \"لا\"، حيث أن الحيتان ليست لها فراء أو شعر. لتجنب تكرار هذا الخطأ في المستقبل، يجب عليك قراءة السؤال بعناية والتأكد من فهمه بشكل صحيح قبل الإجابة. كما يجب عليك التفكير بشكل منطقي وتحليلي قبل اتخاذ القرار بالإجابة.\n",
      "- لقد فشلت في الإجابة على السؤال بشكل صحيح لأنك قمت بخطأ في استنتاجك. في الحقيقة، الحيتان تعتبر ثدييات ولكنها لا تمتلك فراء أو شعر.\n",
      "تفكير :\n",
      "الرد: إنهاء[لا، الحيتان ليست لها فراء أو شعر]\n"
     ]
    }
   ],
   "source": [
    "agent.run(reflexion_strategy = strategy)"
   ]
  },
  {
   "cell_type": "code",
   "execution_count": 15,
   "metadata": {},
   "outputs": [
    {
     "name": "stdout",
     "output_type": "stream",
     "text": [
      "Running Reflexion strategy...\n",
      "سبق وأن جربت الإجابة على هذا السؤال، لكن دون نجاح. تقدم لك التقييمات التالية خطة لتجنب تكرار نفس الخطأ. استفد منها لتحسين استراتيجيتك وتقديم إجابة صحيحة على السؤال المطروح.  \n",
      "Reflections:\n",
      "- لقد فشلت في الإجابة على السؤال بشكل صحيح، لأنك افترضت أن الأقحوان هي الزهور الحمراء، في حين أن السؤال لم يحدد لون الزهور. لذلك، يجب عليك أن تتجنب الافتراضات غير المبررة وتركز على البيانات المعطاة في السؤال.\n",
      "تفكير :\n",
      "الرد: إنهاء[السؤال لم يحدد لون الزهور، لذلك لا يمكنني تحديد عدد الزهور الحمراء]\n",
      "Agent execution time: 4.94 seconds\n"
     ]
    }
   ],
   "source": [
    "import time\n",
    "\n",
    "start_time = time.time()\n",
    "agent.run(reflexion_strategy=strategy)\n",
    "end_time = time.time()\n",
    "\n",
    "elapsed_time = end_time - start_time\n",
    "\n",
    "print(f\"Agent execution time: {elapsed_time:.2f} seconds\")"
   ]
  },
  {
   "cell_type": "code",
   "execution_count": null,
   "metadata": {},
   "outputs": [],
   "source": [
    "agent.run(reflexion_strategy = strategy)"
   ]
  },
  {
   "cell_type": "code",
   "execution_count": 26,
   "metadata": {},
   "outputs": [
    {
     "data": {
      "text/plain": [
       "'يمكن أن يكون هناك العديد من النتائج المحتملة لموقف معين حيث ترفض سامية حضور الحفل الذي تمت دعوتها إليه. بعض النتائج المحتملة تشمل:\\n\\n1. تفوت سامية فرصة الاختلاط وقضاء وقت ممتع مع الأصدقاء والمعارف في الحفلة.\\n2. قد يشعر المضيف والضيوف الآخرون بخيبة أمل أو انزعاج بسبب عدم حضور سامية للحفلة.\\n3. قد تختار سامية قضاء وقتها في المشاركة في أنشطة أخرى أو الراحة في المنزل.\\n\\n\\nبالطبع، ستعتمد النتيجة المحددة على عوامل مختلفة، مثل طبيعة الحفلة، والعلاقة بين سامية والمضيف والضيوف الآخرين.'"
      ]
     },
     "execution_count": 26,
     "metadata": {},
     "output_type": "execute_result"
    }
   ],
   "source": [
    "row['answer']"
   ]
  }
 ],
 "metadata": {
  "kernelspec": {
   "display_name": "Python 3",
   "language": "python",
   "name": "python3"
  },
  "language_info": {
   "codemirror_mode": {
    "name": "ipython",
    "version": 3
   },
   "file_extension": ".py",
   "mimetype": "text/x-python",
   "name": "python",
   "nbconvert_exporter": "python",
   "pygments_lexer": "ipython3",
   "version": "3.10.11"
  }
 },
 "nbformat": 4,
 "nbformat_minor": 2
}
