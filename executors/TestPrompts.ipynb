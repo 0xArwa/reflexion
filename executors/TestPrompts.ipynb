{
 "cells": [
  {
   "cell_type": "code",
   "execution_count": 3,
   "metadata": {},
   "outputs": [
    {
     "data": {
      "text/plain": [
       "[1, -1, 0, -1, 1]"
      ]
     },
     "execution_count": 3,
     "metadata": {},
     "output_type": "execute_result"
    }
   ],
   "source": [
    "def minReverseOperations(n: int, p: int, banned: List[int], k: int) -> List[int]:\n",
    "    \"\"\"\n",
    "    You are given an integer n and an integer p in the range [0, n - 1]. Representing a 0-indexed array arr of length n where all positions are set to 0's, except position p which is set to 1.\n",
    "    You are also given an integer array banned containing some positions from the array. For the ith position in banned, arr[banned[i]] = 0, and banned[i] != p.\n",
    "    You can perform multiple operations on arr. In an operation, you can choose a subarray with size k and reverse the subarray. However, the 1 in arr should never go to any of the positions in banned. In other words, after each operation arr[banned[i]] remains 0.\n",
    "    Return an array ans where for each i from [0, n - 1], ans[i] is the minimum number of reverse operations needed to bring the 1 to position i in arr, or -1 if it is impossible.\n",
    "    A subarray is a contiguous non-empty sequence of elements within an array.\n",
    "    The values of ans[i] are independent for all i's.\n",
    "    The reverse of an array is an array containing the values in reverse order.\n",
    "    \"\"\"\n",
    "    from typing import List\n",
    "\n",
    "    ans = [-1] * n\n",
    "    banned_set = set(banned)\n",
    "    \n",
    "    for i in range(n):\n",
    "        if i == p or i in banned_set:\n",
    "            continue\n",
    "        \n",
    "        distance = abs(i - p)\n",
    "        if distance % k == 0:\n",
    "            operations = distance // k\n",
    "            valid = True\n",
    "            for j in range(p, i, k if i > p else -k):\n",
    "                if j in banned_set or (j + k) in banned_set:\n",
    "                    valid = False\n",
    "                    break\n",
    "            if valid:\n",
    "                ans[i] = operations\n",
    "                \n",
    "    ans[p] = 0\n",
    "    return ans\n",
    "\n",
    "minReverseOperations(5, 2, [1, 3], 2)"
   ]
  }
 ],
 "metadata": {
  "kernelspec": {
   "display_name": "env",
   "language": "python",
   "name": "python3"
  },
  "language_info": {
   "codemirror_mode": {
    "name": "ipython",
    "version": 3
   },
   "file_extension": ".py",
   "mimetype": "text/x-python",
   "name": "python",
   "nbconvert_exporter": "python",
   "pygments_lexer": "ipython3",
   "version": "3.11.1"
  },
  "orig_nbformat": 4
 },
 "nbformat": 4,
 "nbformat_minor": 2
}
